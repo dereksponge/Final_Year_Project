{
 "cells": [
  {
   "cell_type": "code",
   "execution_count": 1,
   "metadata": {},
   "outputs": [],
   "source": [
    "import pandas as pd\n",
    "import numpy as np\n",
    "import matplotlib.pyplot as plt\n",
    "import tensorflow as tf\n",
    "\n",
    "from tensorflow.keras.models import Sequential\n",
    "from tensorflow.keras.layers import TimeDistributed, Dropout, Dense, LSTM, Conv1D, MaxPooling1D, Flatten\n",
    "from tensorflow.keras.callbacks import ModelCheckpoint\n",
    "from tensorflow.keras.regularizers import l1, l2\n",
    "from sklearn.preprocessing import MinMaxScaler\n",
    "from sklearn.decomposition import PCA\n",
    "from scipy.stats import skew, bernoulli\n",
    "from bitstring import BitArray\n",
    "from deap import base, creator, tools, algorithms"
   ]
  },
  {
   "cell_type": "code",
   "execution_count": 2,
   "metadata": {},
   "outputs": [],
   "source": [
    "df = pd.read_csv(\"sp500.csv\")\n",
    "#print(df.head())\n",
    "# Make single variable\n",
    "#df.drop(['Open', 'High', 'Low', 'Volume'], axis=1, inplace=True)\n",
    "df['Date'] = pd.to_datetime(df['Date'], dayfirst=True)\n",
    "df = df.set_index(['Date'], drop=True)"
   ]
  },
  {
   "cell_type": "code",
   "execution_count": 3,
   "metadata": {},
   "outputs": [],
   "source": [
    "#Converts dataframe to array\n",
    "data = df.to_numpy()\n",
    "\n",
    "#Split into training and test data\n",
    "data_length = len(data)\n",
    "train_split = 0.9\n",
    "train_length = int(train_split * data_length)\n",
    "test_length = data_length - train_length\n",
    "\n",
    "x_train = data[0:train_length, :]\n",
    "x_test = data[train_length:, :]\n",
    "\n",
    "y_train = data[0:train_length, -1]\n",
    "y_test = data[train_length:, -1]\n",
    "\n"
   ]
  },
  {
   "cell_type": "code",
   "execution_count": 4,
   "metadata": {
    "scrolled": true
   },
   "outputs": [
    {
     "name": "stdout",
     "output_type": "stream",
     "text": [
      "(4227, 5)\n"
     ]
    }
   ],
   "source": [
    "x_scaler = MinMaxScaler((-1,1))\n",
    "x_train_scaled = x_scaler.fit_transform(x_train)\n",
    "x_test_scaled = x_scaler.transform(x_test)\n",
    "\n",
    "y_scaler = MinMaxScaler((-1,1))\n",
    "y_train_scaled = y_scaler.fit_transform(y_train.reshape(-1,1))\n",
    "y_test_scaled = y_scaler.transform(y_test.reshape(-1,1))\n",
    "\n",
    "print(x_train_scaled.shape)"
   ]
  },
  {
   "cell_type": "code",
   "execution_count": 5,
   "metadata": {},
   "outputs": [],
   "source": [
    "def GetLabels(sequence, n_steps, window_space=1):\n",
    "    \n",
    "    label_seq = []\n",
    "    for i in range(0, len(sequence), window_space):\n",
    "        end_index = i + n_steps\n",
    "        if end_index > len(sequence)-1:\n",
    "            break\n",
    "        labels = sequence[end_index]\n",
    "        label_seq.append(labels)\n",
    "    \n",
    "    label_seq = np.array(label_seq)\n",
    "    label_seq = label_seq.reshape(len(label_seq),1)\n",
    "    \n",
    "    return label_seq"
   ]
  },
  {
   "cell_type": "code",
   "execution_count": 6,
   "metadata": {},
   "outputs": [],
   "source": [
    "# Process the data for the shape of the moving window\n",
    "def ExtractFeatures(sequence, n_steps, window_space=1):\n",
    "    \n",
    "    for j in range(sequence.shape[1]):\n",
    "        mean_seq = []\n",
    "        variance_seq = []\n",
    "        skewness_seq = []\n",
    "        sum_seq = []\n",
    "        min_seq = []\n",
    "        max_seq = []\n",
    "        range_seq = []\n",
    "        median_seq = []\n",
    "        iqr_seq = []\n",
    "        stochastic_oscillator = []\n",
    "        \n",
    "        label_seq = []\n",
    "        for i in range(0, len(sequence[:, j]), window_space):\n",
    "            end_index = i + n_steps\n",
    "            if end_index > len(sequence)-1:\n",
    "                break\n",
    "            data = sequence[i:end_index, j]\n",
    "            \n",
    "            #Average of window\n",
    "            mean = np.mean(data)\n",
    "            mean_seq.append(mean)\n",
    "            #Varience of window\n",
    "            #variance = np.var(data)\n",
    "            #variance_seq.append(variance)\n",
    "            #Skewness of window\n",
    "            #skewness_seq.append(float(skew(data)))\n",
    "            #Sum of window\n",
    "            #Sum = np.sum(data)\n",
    "            #sum_seq.append(Sum)\n",
    "            #Min of window\n",
    "            Min = np.min(data)\n",
    "            min_seq.append(Min)\n",
    "            #Max of window\n",
    "            Max = np.max(data)\n",
    "            max_seq.append(Max)\n",
    "            #Range of window\n",
    "            Range = Max-Min\n",
    "            range_seq.append(Range)\n",
    "            #Median of window\n",
    "            median = np.median(data)\n",
    "            median_seq.append(median)\n",
    "            #IQR of window\n",
    "            iqr = np.subtract(*np.percentile(data, [75, 25]))\n",
    "            iqr_seq.append(iqr)\n",
    "            #Stochastic oscillator\n",
    "            #so = ((data[-1]-Min)/(Range))\n",
    "            #stochastic_oscillator.append(so)\n",
    "        \n",
    "        mean_seq = np.array(mean_seq)\n",
    "        #variance_seq = np.array(variance_seq)\n",
    "        #skewness_seq = np.array(skewness_seq)\n",
    "        #sum_seq = np.array(sum_seq)\n",
    "        min_seq = np.array(min_seq)\n",
    "        max_seq = np.array(max_seq)\n",
    "        range_seq = np.array(range_seq)\n",
    "        median_seq = np.array(median_seq)\n",
    "        iqr_seq = np.array(iqr_seq)\n",
    "        #stochastic_oscillator = np.array(stochastic_oscillator)\n",
    "\n",
    "        \n",
    "        mean_seq = mean_seq.reshape(len(mean_seq),1)\n",
    "        #variance_seq = variance_seq.reshape(len(variance_seq),1)\n",
    "        #skewness_seq = skewness_seq.reshape(len(skewness_seq),1)\n",
    "        #sum_seq = sum_seq.reshape(len(sum_seq),1)\n",
    "        min_seq = min_seq.reshape(len(min_seq),1)\n",
    "        max_seq = max_seq.reshape(len(max_seq),1)\n",
    "        range_seq = range_seq.reshape(len(range_seq),1)\n",
    "        median_seq = median_seq.reshape(len(median_seq),1)\n",
    "        iqr_seq = iqr_seq.reshape(len(iqr_seq),1)\n",
    "        #stochastic_oscillator = iqr_seq.reshape(len(stochastic_oscillator),1)\n",
    "        \n",
    "        if j == 0:\n",
    "            features = np.hstack((mean_seq, iqr_seq, median_seq)) \n",
    "            \n",
    "        else:\n",
    "            features = np.hstack((features, mean_seq, iqr_seq, median_seq)) \n",
    "            \n",
    "    return (features)"
   ]
  },
  {
   "cell_type": "code",
   "execution_count": 7,
   "metadata": {},
   "outputs": [],
   "source": [
    "def Convolutional():\n",
    "    cnn = Sequential()\n",
    "    cnn.add(Conv1D(filters=256, kernel_size=1, activation='tanh', input_shape=(1, train_input.shape[2])))\n",
    "    cnn.add(MaxPooling1D(pool_size=1))\n",
    "    cnn.add(Conv1D(filters=128, kernel_size=1, activation='tanh'))\n",
    "    cnn.add(MaxPooling1D(pool_size=1))\n",
    "    cnn.add(Flatten())\n",
    "    cnn.add(Dense(50, activation='tanh'))\n",
    "    cnn.add(Dense(1, activation='linear'))\n",
    "    return cnn"
   ]
  },
  {
   "cell_type": "code",
   "execution_count": 8,
   "metadata": {},
   "outputs": [
    {
     "name": "stdout",
     "output_type": "stream",
     "text": [
      "(4226, 1, 15)\n",
      "(4226, 1)\n",
      "(469, 1, 15)\n",
      "(469, 1)\n"
     ]
    }
   ],
   "source": [
    "\n",
    "#Hyper-Parameters\n",
    "window_size = 1\n",
    "window_space = 1\n",
    "learning_rate = 0.0001\n",
    "epochs = 15\n",
    "batch_size = 32\n",
    "\n",
    "#Extract train and test features\n",
    "train_features = ExtractFeatures(x_train_scaled, window_size, window_space)\n",
    "test_features = ExtractFeatures(x_test_scaled, window_size, window_space)\n",
    "train_input, test_input = np.expand_dims(train_features, axis=1), np.expand_dims(test_features, axis=1)\n",
    "\n",
    "#Get train and test labels\n",
    "train_labels = GetLabels(y_train_scaled, window_size, window_space)\n",
    "test_labels = GetLabels(y_test_scaled, window_size, window_space)\n",
    "\n",
    "#train_labels, test_labels = train_labels.reshape(len(train_labels)), test_labels.reshape(len(test_labels))\n",
    "\n",
    "#Validation Data\n",
    "validation_data = (test_input, test_labels)\n",
    "\n",
    "print(train_input.shape)\n",
    "print(train_labels.shape)\n",
    "print(test_input.shape)\n",
    "print(test_labels.shape)\n"
   ]
  },
  {
   "cell_type": "code",
   "execution_count": 9,
   "metadata": {},
   "outputs": [
    {
     "name": "stdout",
     "output_type": "stream",
     "text": [
      "[0.91676958]\n"
     ]
    }
   ],
   "source": [
    "#Principle Component Analysis\n",
    "sk_model = PCA(n_components=train_input.shape[1])\n",
    "sk_model.fit_transform(train_features)\n",
    "print(sk_model.explained_variance_ratio_)"
   ]
  },
  {
   "cell_type": "code",
   "execution_count": 10,
   "metadata": {},
   "outputs": [],
   "source": [
    "def split_sequence(sequence, n_steps, window_space=1):\n",
    "    data_seq = []\n",
    "    label_seq = []\n",
    "    for i in range(0, len(sequence), window_space):\n",
    "        end_index = i + n_steps\n",
    "        if end_index > len(sequence)-1:\n",
    "            break\n",
    "        x, y = sequence[i:end_index, :-1], sequence[i:end_index, -1]\n",
    "        data_seq.append(x) \n",
    "        label_seq.append(y)\n",
    "        \n",
    "    data_seq, label_seq = np.array(data_seq), np.array(label_seq)\n",
    "    if (n_steps > 1):\n",
    "        label_seq = np.expand_dims(label_seq, axis=2)\n",
    "    return (data_seq, label_seq)"
   ]
  },
  {
   "cell_type": "code",
   "execution_count": 11,
   "metadata": {},
   "outputs": [
    {
     "name": "stdout",
     "output_type": "stream",
     "text": [
      "WARNING:tensorflow:From C:\\Users\\derekpsonge\\Anaconda3\\envs\\tf-gpu\\lib\\site-packages\\tensorflow\\python\\ops\\resource_variable_ops.py:435: colocate_with (from tensorflow.python.framework.ops) is deprecated and will be removed in a future version.\n",
      "Instructions for updating:\n",
      "Colocations handled automatically by placer.\n",
      "WARNING:tensorflow:From C:\\Users\\derekpsonge\\Anaconda3\\envs\\tf-gpu\\lib\\site-packages\\tensorflow\\python\\ops\\losses\\losses_impl.py:667: to_float (from tensorflow.python.ops.math_ops) is deprecated and will be removed in a future version.\n",
      "Instructions for updating:\n",
      "Use tf.cast instead.\n",
      "_________________________________________________________________\n",
      "Layer (type)                 Output Shape              Param #   \n",
      "=================================================================\n",
      "conv1d (Conv1D)              (None, 1, 256)            4096      \n",
      "_________________________________________________________________\n",
      "max_pooling1d (MaxPooling1D) (None, 1, 256)            0         \n",
      "_________________________________________________________________\n",
      "conv1d_1 (Conv1D)            (None, 1, 128)            32896     \n",
      "_________________________________________________________________\n",
      "max_pooling1d_1 (MaxPooling1 (None, 1, 128)            0         \n",
      "_________________________________________________________________\n",
      "flatten (Flatten)            (None, 128)               0         \n",
      "_________________________________________________________________\n",
      "dense (Dense)                (None, 50)                6450      \n",
      "_________________________________________________________________\n",
      "dense_1 (Dense)              (None, 1)                 51        \n",
      "=================================================================\n",
      "Total params: 43,493\n",
      "Trainable params: 43,493\n",
      "Non-trainable params: 0\n",
      "_________________________________________________________________\n"
     ]
    }
   ],
   "source": [
    "def mse(y_true, y_pred):\n",
    "\n",
    "    loss = tf.reduce_mean(tf.losses.mean_squared_error(labels=y_true, predictions=y_pred))\n",
    "    return loss\n",
    "\n",
    "optimiser = tf.train.AdamOptimizer(learning_rate=learning_rate)\n",
    "\n",
    "#model = LSTMmodel(lstm_size, lstm_layers)\n",
    "#model = FullyConnected(FF_size, FF_layers)\n",
    "model = Convolutional()\n",
    "\n",
    "model.compile(loss=mse, \n",
    "              optimizer=optimiser,\n",
    "              metrics=['MAE'])\n",
    "\n",
    "model.summary()"
   ]
  },
  {
   "cell_type": "code",
   "execution_count": 12,
   "metadata": {},
   "outputs": [
    {
     "name": "stdout",
     "output_type": "stream",
     "text": [
      "Train on 4226 samples, validate on 469 samples\n",
      "Epoch 1/15\n",
      "4226/4226 [==============================] - 1s 319us/sample - loss: 0.0181 - mean_absolute_error: 0.1044 - val_loss: 0.0855 - val_mean_absolute_error: 0.2482\n",
      "Epoch 2/15\n",
      "4226/4226 [==============================] - 0s 76us/sample - loss: 0.0014 - mean_absolute_error: 0.0285 - val_loss: 0.1189 - val_mean_absolute_error: 0.3014\n",
      "Epoch 3/15\n",
      "4226/4226 [==============================] - 0s 76us/sample - loss: 0.0014 - mean_absolute_error: 0.0280 - val_loss: 0.0956 - val_mean_absolute_error: 0.2654\n",
      "Epoch 4/15\n",
      "4226/4226 [==============================] - 0s 75us/sample - loss: 0.0013 - mean_absolute_error: 0.0278 - val_loss: 0.0780 - val_mean_absolute_error: 0.2355\n",
      "Epoch 5/15\n",
      "4226/4226 [==============================] - 0s 76us/sample - loss: 0.0013 - mean_absolute_error: 0.0274 - val_loss: 0.0640 - val_mean_absolute_error: 0.2101\n",
      "Epoch 6/15\n",
      "4226/4226 [==============================] - 0s 78us/sample - loss: 0.0011 - mean_absolute_error: 0.0255 - val_loss: 0.0537 - val_mean_absolute_error: 0.1898\n",
      "Epoch 7/15\n",
      "4226/4226 [==============================] - 0s 77us/sample - loss: 9.3861e-04 - mean_absolute_error: 0.0236 - val_loss: 0.0456 - val_mean_absolute_error: 0.1724\n",
      "Epoch 8/15\n",
      "4226/4226 [==============================] - 0s 78us/sample - loss: 7.9988e-04 - mean_absolute_error: 0.0217 - val_loss: 0.0396 - val_mean_absolute_error: 0.1590\n",
      "Epoch 9/15\n",
      "4226/4226 [==============================] - 0s 77us/sample - loss: 6.8664e-04 - mean_absolute_error: 0.0199 - val_loss: 0.0363 - val_mean_absolute_error: 0.1512\n",
      "Epoch 10/15\n",
      "4226/4226 [==============================] - 0s 77us/sample - loss: 6.1431e-04 - mean_absolute_error: 0.0187 - val_loss: 0.0354 - val_mean_absolute_error: 0.1495\n",
      "Epoch 11/15\n",
      "4226/4226 [==============================] - 0s 78us/sample - loss: 5.9347e-04 - mean_absolute_error: 0.0184 - val_loss: 0.0367 - val_mean_absolute_error: 0.1531\n",
      "Epoch 12/15\n",
      "4226/4226 [==============================] - 0s 78us/sample - loss: 6.1617e-04 - mean_absolute_error: 0.0187 - val_loss: 0.0393 - val_mean_absolute_error: 0.1597\n",
      "Epoch 13/15\n",
      "4226/4226 [==============================] - 0s 79us/sample - loss: 6.5461e-04 - mean_absolute_error: 0.0192 - val_loss: 0.0423 - val_mean_absolute_error: 0.1664\n",
      "Epoch 14/15\n",
      "4226/4226 [==============================] - 0s 78us/sample - loss: 6.8900e-04 - mean_absolute_error: 0.0196 - val_loss: 0.0449 - val_mean_absolute_error: 0.1717\n",
      "Epoch 15/15\n",
      "4226/4226 [==============================] - 0s 78us/sample - loss: 7.1286e-04 - mean_absolute_error: 0.0199 - val_loss: 0.0468 - val_mean_absolute_error: 0.1754\n"
     ]
    }
   ],
   "source": [
    "history = model.fit(train_input,\n",
    "                    train_labels,\n",
    "                    epochs=epochs, \n",
    "                    batch_size=batch_size,\n",
    "                    validation_data=validation_data,\n",
    "                    shuffle=False)"
   ]
  },
  {
   "cell_type": "code",
   "execution_count": 13,
   "metadata": {},
   "outputs": [
    {
     "data": {
      "image/png": "[encoded data removed]",
      "text/plain": [
       "<Figure size 432x288 with 1 Axes>"
      ]
     },
     "metadata": {
      "needs_background": "light"
     },
     "output_type": "display_data"
    }
   ],
   "source": [
    "plt.plot(history.history['loss'])\n",
    "plt.plot(history.history['val_loss'])\n",
    "plt.title('model train vs validation loss')\n",
    "plt.ylabel('loss')\n",
    "plt.xlabel('epoch')\n",
    "plt.legend(['train', 'validation'], loc='upper right')\n",
    "plt.show()"
   ]
  },
  {
   "cell_type": "code",
   "execution_count": 14,
   "metadata": {},
   "outputs": [
    {
     "data": {
      "image/png": "[encoded data removed]",
      "text/plain": [
       "<Figure size 432x288 with 1 Axes>"
      ]
     },
     "metadata": {
      "needs_background": "light"
     },
     "output_type": "display_data"
    }
   ],
   "source": [
    "plt.plot(history.history['mean_absolute_error'])\n",
    "plt.plot(history.history['val_mean_absolute_error'])\n",
    "plt.title('model train vs validation mean absolute error')\n",
    "plt.ylabel('mean absolute error')\n",
    "plt.xlabel('epoch')\n",
    "plt.legend(['train', 'validation'], loc='upper right')\n",
    "plt.show()"
   ]
  },
  {
   "cell_type": "code",
   "execution_count": 15,
   "metadata": {},
   "outputs": [
    {
     "name": "stdout",
     "output_type": "stream",
     "text": [
      "469/469 [==============================] - 0s 47us/sample - loss: 0.0468 - mean_absolute_error: 0.1754\n",
      "loss(test-set): [0.0467999653497548, 0.17539762]\n"
     ]
    }
   ],
   "source": [
    "results = model.evaluate(x = test_input,\n",
    "                        y = test_labels)\n",
    "print('loss(test-set):', results)"
   ]
  },
  {
   "cell_type": "code",
   "execution_count": 16,
   "metadata": {},
   "outputs": [
    {
     "data": {
      "image/png": "[encoded data removed]",
      "text/plain": [
       "<Figure size 720x432 with 1 Axes>"
      ]
     },
     "metadata": {
      "needs_background": "light"
     },
     "output_type": "display_data"
    }
   ],
   "source": [
    "def plot_comparison():\n",
    "    \"\"\"\n",
    "    Plot the predicted and true output-signals.\n",
    "    \n",
    "    :param start_idx: Start-index for the time-series.\n",
    "    :param length: Sequence-length to process and plot.\n",
    "    :param train: Boolean whether to use training- or test-set.\n",
    "    \"\"\"\n",
    "\n",
    "       # Use test-data.\n",
    "    x = test_input\n",
    "    y_true = y_scaler.inverse_transform(test_labels)\n",
    "    \n",
    "    #x = np.expand_dims(x, axis=1)\n",
    "    \n",
    "    \n",
    "    # Select the sequences from the given start-index and\n",
    "    # of the given length.\n",
    "    \n",
    "    # Input-signals for the model.\n",
    "    \n",
    "    \n",
    "    # Use the model to predict the output-signals.\n",
    "    x_pred = model.predict(x)    \n",
    "\n",
    "    x_pred = x_pred.reshape(-1,1)\n",
    "\n",
    "    y_pred_rescaled = y_scaler.inverse_transform(x_pred)\n",
    "    \n",
    "    # For each output-signal.\n",
    "    \n",
    "\n",
    "    # Make the plotting-canvas bigger.\n",
    "    plt.figure(figsize=(10,6))\n",
    "    \n",
    "    # Plot and compare the two signals.\n",
    "    plt.plot(y_true, label='true')\n",
    "    plt.plot(y_pred_rescaled, label='pred')\n",
    "        \n",
    "    # Plot labels etc.\n",
    "    plt.legend()\n",
    "    plt.show()\n",
    "    \n",
    "plot_comparison()"
   ]
  },
  {
   "cell_type": "code",
   "execution_count": null,
   "metadata": {},
   "outputs": [],
   "source": []
  }
 ],
 "metadata": {
  "kernelspec": {
   "display_name": "Python 3",
   "language": "python",
   "name": "python3"
  },
  "language_info": {
   "codemirror_mode": {
    "name": "ipython",
    "version": 3
   },
   "file_extension": ".py",
   "mimetype": "text/x-python",
   "name": "python",
   "nbconvert_exporter": "python",
   "pygments_lexer": "ipython3",
   "version": "3.6.8"
  }
 },
 "nbformat": 4,
 "nbformat_minor": 2
}
